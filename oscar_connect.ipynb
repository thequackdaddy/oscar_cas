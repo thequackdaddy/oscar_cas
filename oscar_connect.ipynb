{
 "cells": [
  {
   "cell_type": "code",
   "execution_count": null,
   "metadata": {},
   "outputs": [],
   "source": [
    "### oscar_connect.ipynb\n",
    "### try to connect to OSCAR\n",
    "### by Steve Berman, started 18Nov2020\n"
   ]
  },
  {
   "cell_type": "code",
   "execution_count": null,
   "metadata": {},
   "outputs": [],
   "source": [
    "import numpy as np\n",
    "import pandas as pd\n",
    "\n",
    "# connect to web site\n",
    "import requests\n",
    "\n",
    "# data from HTML files\n",
    "from bs4 import BeautifulSoup\n"
   ]
  },
  {
   "cell_type": "code",
   "execution_count": null,
   "metadata": {},
   "outputs": [],
   "source": [
    "\n",
    "oscar_url = 'https://app.oscarscore.com/#/landing'\n"
   ]
  },
  {
   "cell_type": "code",
   "execution_count": null,
   "metadata": {},
   "outputs": [],
   "source": [
    "# reference information\n",
    "#https://stackoverflow.com/questions/47968483/how-to-loging-to-a-website-that-has-password-captcha/47968638"
   ]
  },
  {
   "cell_type": "code",
   "execution_count": null,
   "metadata": {},
   "outputs": [],
   "source": [
    "def read_oscar_cookie(filename):\n",
    "    \"\"\" retrieve cookie information from browser\n",
    "    \n",
    "    # by Steve Berman, started 18Nov2020\n",
    "    \n",
    "    :param filename: location of cookie\n",
    "    \n",
    "    \"\"\"\n",
    "    pass"
   ]
  },
  {
   "cell_type": "code",
   "execution_count": null,
   "metadata": {},
   "outputs": [],
   "source": [
    "def read_oscar_data(html_string, cookies):\n",
    "    \"\"\" use cookies to log in to OSCAR, to bypass capcha\n",
    "    \n",
    "    # by Steve Berman, added 18Nov2020\n",
    "    \n",
    "    :param cookie_data: \n",
    "    \n",
    "    \n",
    "    \"\"\"\n",
    "    try:\n",
    "        read = requests.get(s_string, cookies=cookies).content\n",
    "        soup = BeautifulSoup(read, 'lxml')\n",
    " "
   ]
  },
  {
   "cell_type": "code",
   "execution_count": null,
   "metadata": {},
   "outputs": [],
   "source": []
  },
  {
   "cell_type": "code",
   "execution_count": null,
   "metadata": {},
   "outputs": [],
   "source": []
  }
 ],
 "metadata": {
  "kernelspec": {
   "display_name": "Python 3",
   "language": "python",
   "name": "python3"
  },
  "language_info": {
   "codemirror_mode": {
    "name": "ipython",
    "version": 3
   },
   "file_extension": ".py",
   "mimetype": "text/x-python",
   "name": "python",
   "nbconvert_exporter": "python",
   "pygments_lexer": "ipython3",
   "version": "3.7.3"
  }
 },
 "nbformat": 4,
 "nbformat_minor": 4
}
